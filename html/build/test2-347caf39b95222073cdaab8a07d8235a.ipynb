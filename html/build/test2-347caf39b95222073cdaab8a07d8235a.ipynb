{
 "cells": [
  {
   "cell_type": "code",
   "execution_count": 3,
   "metadata": {},
   "outputs": [
    {
     "name": "stdout",
     "output_type": "stream",
     "text": [
      "|\u001b[1m     x \u001b[0m|\u001b[1m     y \u001b[0m|\n",
      "|\u001b[90m Int64 \u001b[0m|\u001b[90m Int64 \u001b[0m|\n",
      "|-------|-------|\n",
      "|     1 |     6 |\n",
      "|     2 |     7 |\n",
      "|     3 |     8 |\n",
      "|     4 |     9 |\n",
      "|     5 |    10 |\n"
     ]
    }
   ],
   "source": [
    "#| label: test_table_jup\n",
    "using DataFrames, PrettyTables\n",
    "x = [1,2,3,4,5]\n",
    "y = [6,7,8,9, 10]\n",
    "df = DataFrame(\"x\" => x, \"y\" => y)\n",
    "pretty_table(df, tf=tf_markdown)"
   ]
  },
  {
   "cell_type": "code",
   "execution_count": null,
   "metadata": {},
   "outputs": [],
   "source": []
  }
 ],
 "metadata": {
  "kernelspec": {
   "display_name": "Julia 1.9.0",
   "language": "julia",
   "name": "julia-1.9"
  },
  "language_info": {
   "file_extension": ".jl",
   "mimetype": "application/julia",
   "name": "julia",
   "version": "1.9.0"
  },
  "orig_nbformat": 4
 },
 "nbformat": 4,
 "nbformat_minor": 2
}
